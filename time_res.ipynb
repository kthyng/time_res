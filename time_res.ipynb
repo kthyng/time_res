{
 "metadata": {
  "name": ""
 },
 "nbformat": 3,
 "nbformat_minor": 0,
 "worksheets": [
  {
   "cells": [
    {
     "cell_type": "code",
     "collapsed": false,
     "input": [
      "%pylab inline"
     ],
     "language": "python",
     "metadata": {},
     "outputs": [
      {
       "output_type": "stream",
       "stream": "stdout",
       "text": [
        "Populating the interactive namespace from numpy and matplotlib\n"
       ]
      }
     ],
     "prompt_number": 1
    },
    {
     "cell_type": "code",
     "collapsed": false,
     "input": [],
     "language": "python",
     "metadata": {},
     "outputs": [],
     "prompt_number": 1
    },
    {
     "cell_type": "markdown",
     "metadata": {},
     "source": [
      "#Time resolution for model output\n",
      "\n",
      "Want to compare the trajectory of drifters run with different model output frequencies. Ping's group's Gulf of Mexico model has output every 5 minutes and has run drifters online, the control case. I will run simulations with output from 5 minutes to less frequent output and also less frequent output with linear interpolations between."
     ]
    },
    {
     "cell_type": "code",
     "collapsed": false,
     "input": [
      "# Model output location\n",
      "loc = "
     ],
     "language": "python",
     "metadata": {},
     "outputs": []
    }
   ],
   "metadata": {}
  }
 ]
}